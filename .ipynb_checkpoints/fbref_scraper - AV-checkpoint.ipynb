{
 "cells": [
  {
   "cell_type": "code",
   "execution_count": 1,
   "metadata": {},
   "outputs": [],
   "source": [
    "import pandas as pd\n",
    "import requests\n",
    "from bs4 import BeautifulSoup\n",
    "from sqlalchemy import create_engine\n"
   ]
  },
  {
   "cell_type": "code",
   "execution_count": 2,
   "metadata": {},
   "outputs": [],
   "source": [
    "# print('Enter Web URL to Scrape Team listing (e.g. https://fbref.com/en/comps/9/Premier-League-Stats)')\n",
    "# league_url = input()\n",
    "\n",
    "league_url = \"https://fbref.com/en/comps/9/Premier-League-Stats\""
   ]
  },
  {
   "cell_type": "code",
   "execution_count": 3,
   "metadata": {},
   "outputs": [],
   "source": [
    "r = requests.get(league_url)\n",
    "soup = BeautifulSoup(r.text, \"html.parser\")"
   ]
  },
  {
   "cell_type": "code",
   "execution_count": 4,
   "metadata": {},
   "outputs": [],
   "source": [
    "# Create empty list to append urls into\n",
    "team_urls = []\n",
    "\n",
    "# Scrape for items that have the attribute \"data-stat\": \"squad\" and save as teams\n",
    "teams = soup.find_all(attrs={\"data-stat\": \"squad\"})\n",
    "\n",
    "# Iterate through all items in teams to find the <a> that contains links\n",
    "for team in teams:\n",
    "    x = team.find('a')\n",
    "    # Use following if statement to weed out any <a> tags that do not have href so we dont get an 'href' error\n",
    "    if x is not None and 'href' in x.attrs:\n",
    "        # Append all hrefs onto the team_urls\n",
    "        team_urls.append(x['href'])\n"
   ]
  },
  {
   "cell_type": "code",
   "execution_count": 5,
   "metadata": {},
   "outputs": [
    {
     "data": {
      "text/plain": [
       "['https://fbref.com/en/squads/822bd0ba/Liverpool',\n",
       " 'https://fbref.com/en/squads/b8fd03ef/Manchester-City',\n",
       " 'https://fbref.com/en/squads/a2d435b3/Leicester-City',\n",
       " 'https://fbref.com/en/squads/cff3d9bb/Chelsea',\n",
       " 'https://fbref.com/en/squads/19538871/Manchester-United',\n",
       " 'https://fbref.com/en/squads/361ca564/Tottenham-Hotspur',\n",
       " 'https://fbref.com/en/squads/8cec06e1/Wolverhampton-Wanderers',\n",
       " 'https://fbref.com/en/squads/1df6b87e/Sheffield-United',\n",
       " 'https://fbref.com/en/squads/33c895d4/Southampton',\n",
       " 'https://fbref.com/en/squads/18bb7c10/Arsenal',\n",
       " 'https://fbref.com/en/squads/47c64c55/Crystal-Palace',\n",
       " 'https://fbref.com/en/squads/d3fd31cc/Everton',\n",
       " 'https://fbref.com/en/squads/943e8050/Burnley',\n",
       " 'https://fbref.com/en/squads/b2b47a98/Newcastle-United',\n",
       " 'https://fbref.com/en/squads/d07537b9/Brighton--Hove-Albion',\n",
       " 'https://fbref.com/en/squads/8602292d/Aston-Villa',\n",
       " 'https://fbref.com/en/squads/7c21e445/West-Ham-United',\n",
       " 'https://fbref.com/en/squads/4ba7cbea/Bournemouth',\n",
       " 'https://fbref.com/en/squads/2abfe087/Watford',\n",
       " 'https://fbref.com/en/squads/1c781004/Norwich-City']"
      ]
     },
     "execution_count": 5,
     "metadata": {},
     "output_type": "execute_result"
    }
   ],
   "source": [
    "# Team URLs appear twice on the team_urls\n",
    "# Use the following to get a final list where the team urls oly appear once\n",
    "half = int(len(team_urls)/2)\n",
    "team_urls_half = team_urls[0:int(half)]\n",
    "\n",
    "# Add the begging of the URL\n",
    "team_list = []\n",
    "for x in team_urls_half:\n",
    "     team_list.append(\"https://fbref.com\" + x)\n",
    "        \n",
    "# team_list"
   ]
  },
  {
   "cell_type": "code",
   "execution_count": null,
   "metadata": {},
   "outputs": [],
   "source": [
    "#Read team table direcly into dataframe\n",
    "d_list = pd.DataFrame()\n",
    "\n",
    "for team in team_list:\n",
    "    dfs = pd.read_html(team,header=1)\n",
    "    d_list = d_list.append(dfs[0])\n",
    "d_list.head(100)"
   ]
  },
  {
   "cell_type": "code",
   "execution_count": null,
   "metadata": {},
   "outputs": [],
   "source": [
    "#Rename columns to remove special characters and better formatting\n",
    "d_list.rename(columns={'Player': 'long_name', 'Nation': 'nationality', 'Pos': 'team_position', 'Age': 'age', 'MP': 'ptime_matches_played',\n",
    "                  'Starts': 'ptime_starts', 'Min': 'ptime_min', 'Gls': 'perf_goals', 'Ast': 'perf_assists', 'PK': 'perf_pks',\n",
    "                  'PKatt': 'perf_pkatt', 'CrdY': 'perf_crd_y', 'CrdR': 'perf_crd_r', 'Gls.1': 'per_90_goals', 'Ast.1': 'per_90_assts',\n",
    "                  'G+A': 'per_90_ga', 'G-PK': 'per_90_g_pk', 'G+A-PK': 'per_90_g_a_pk', 'xG': 'exp_goals', 'npxG': 'exp_np_exp_goals',\n",
    "                  'xA': 'exp_assists', 'xG.1': 'per_90_exp_goals', 'xA.1': 'per_90_exp_assists', 'xG+xA': 'per_90_exp_goals_exp_assists',\n",
    "                   'npxG.1': 'per_90_exp_np_exp_goals', 'npxG+xA': 'per_90_exp_np_exp_goals_assists'}, inplace=True)"
   ]
  },
  {
   "cell_type": "code",
   "execution_count": null,
   "metadata": {},
   "outputs": [],
   "source": [
    "df_player_perf = d_list[{'ptime_matches_played','ptime_starts', 'ptime_min', 'perf_goals', 'perf_assists', 'perf_pks', 'perf_pkatt',\n",
    " 'perf_crd_y', 'perf_crd_r', 'per_90_goals', 'per_90_assts', 'per_90_ga', 'per_90_g_pk', 'per_90_g_a_pk', 'exp_goals', 'exp_np_exp_goals', 'exp_assists',\n",
    "                      'per_90_exp_goals', 'per_90_exp_assists', 'per_90_exp_goals_exp_assists', 'per_90_exp_np_exp_goals', 'per_90_exp_np_exp_goals_assists'}]\n",
    "df_player_perf.head()"
   ]
  },
  {
   "cell_type": "markdown",
   "metadata": {},
   "source": [
    "# Create DB Connection"
   ]
  },
  {
   "cell_type": "code",
   "execution_count": null,
   "metadata": {},
   "outputs": [],
   "source": [
    "#modify connection string using local database id and password \n",
    "connection_string = \"postgres:{Password}@localhost:5432/fifa_db\"\n",
    "engine = create_engine(f'postgresql://{connection_string}')"
   ]
  },
  {
   "cell_type": "code",
   "execution_count": null,
   "metadata": {},
   "outputs": [],
   "source": [
    "df_player_perf.to_sql(name='player_perf', con=engine, if_exists='replace', index=False)"
   ]
  },
  {
   "cell_type": "code",
   "execution_count": null,
   "metadata": {},
   "outputs": [],
   "source": [
    "#confirm country table\n",
    "pd.read_sql_query('select * from player_perf', con=engine).head()"
   ]
  },
  {
   "cell_type": "code",
   "execution_count": null,
   "metadata": {},
   "outputs": [],
   "source": []
  }
 ],
 "metadata": {
  "kernelspec": {
   "display_name": "Python 3",
   "language": "python",
   "name": "python3"
  },
  "language_info": {
   "codemirror_mode": {
    "name": "ipython",
    "version": 3
   },
   "file_extension": ".py",
   "mimetype": "text/x-python",
   "name": "python",
   "nbconvert_exporter": "python",
   "pygments_lexer": "ipython3",
   "version": "3.7.4"
  }
 },
 "nbformat": 4,
 "nbformat_minor": 2
}
